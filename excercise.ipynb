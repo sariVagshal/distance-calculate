{
 "cells": [
  {
   "cell_type": "code",
   "execution_count": 1,
   "metadata": {},
   "outputs": [
    {
     "name": "stdout",
     "output_type": "stream",
     "text": [
      "Populating the interactive namespace from numpy and matplotlib\n"
     ]
    }
   ],
   "source": [
    "from __future__ import print_function, division\n",
    "import pandas as pd\n",
    "from meye import MEImage\n",
    "from scipy.ndimage.filters import maximum_filter\n",
    "import matplotlib.patches as patches\n",
    "from scipy import signal as sg\n",
    "\n",
    "%pylab inline\n",
    "plt.rcParams['image.cmap'] = 'gray'\n",
    "\n",
    "df = pd.read_pickle(\"store.pickle\")\n",
    "\n",
    "\n"
   ]
  },
  {
   "cell_type": "code",
   "execution_count": null,
   "metadata": {},
   "outputs": [],
   "source": []
  },
  {
   "cell_type": "code",
   "execution_count": 5,
   "metadata": {},
   "outputs": [],
   "source": [
    "def find_corners(name_img, rects):\n",
    "    image = MEImage.from_file(name_img)\n",
    "    sobel_kernel_x = np.array([[-1, 0, 1], [-2, 0, 2], [-1, 0, 1]]) / 8\n",
    "    sobel_kernel_y = numpy.rot90(sobel_kernel_x)\n",
    "    my_image = np.arange(8) + np.arange(8)[:,np.newaxis] \n",
    "    new_image = image.im[rect[2]:rect[3],rect[0]:rect[1]]\n",
    "    \n",
    "    Ix = sg.convolve2d(new_image, sobel_kernel_x, \"same\") \n",
    "    Iy = sg.convolve2d(new_image, sobel_kernel_y, \"same\") \n",
    "    Ixx = Ix*Ix\n",
    "    Iyy = Iy*Iy\n",
    "    Ixy = Ix*Iy\n",
    "    \n",
    "    G = np.ones((7,7))  / 49\n",
    "    Sxx = sg.convolve2d(Ixx, G, \"same\")\n",
    "    Syy = sg.convolve2d(Iyy, G, \"same\")\n",
    "    Sxy= sg.convolve2d(Ixy, G, \"same\")\n",
    "    \n",
    "    R = ((Sxx*Syy) - (Sxy**2)) / (Sxx+Syy+0.1)\n",
    "    \n",
    "    max_num = maximum_filter(R, 15)\n",
    "    mask = (R == max_num)\n",
    "    \n",
    "#     i = np.copy(new_image)\n",
    "#     i[mask] = 255\n",
    "    \n",
    "    return mask;\n",
    "    \n",
    "    "
   ]
  },
  {
   "cell_type": "code",
   "execution_count": 6,
   "metadata": {},
   "outputs": [],
   "source": [
    "\n",
    "def index_by_mask(mask):\n",
    "    y,x = mask.shape\n",
    "\n",
    "    list_index = list(zip(np.where(mask == True)[0], np.where(mask == True)[1]))\n",
    "#     for point in list_index:\n",
    "#         if(point[0] < 10 or point[1] < 10 or point[0] > (x - 10) or point[1] > (y - 10)):\n",
    "#             list_index.remove(point)\n",
    "    return list_index\n",
    "# index(mask_prev)"
   ]
  },
  {
   "cell_type": "code",
   "execution_count": null,
   "metadata": {},
   "outputs": [],
   "source": []
  },
  {
   "cell_type": "code",
   "execution_count": 7,
   "metadata": {},
   "outputs": [
    {
     "ename": "NameError",
     "evalue": "name 'points' is not defined",
     "output_type": "error",
     "traceback": [
      "\u001b[1;31m---------------------------------------------------------------------------\u001b[0m",
      "\u001b[1;31mNameError\u001b[0m                                 Traceback (most recent call last)",
      "\u001b[1;32m<ipython-input-7-b565e58f0d8b>\u001b[0m in \u001b[0;36m<module>\u001b[1;34m\u001b[0m\n\u001b[0;32m     13\u001b[0m     \u001b[0mimshow\u001b[0m\u001b[1;33m(\u001b[0m\u001b[0mi\u001b[0m\u001b[1;33m,\u001b[0m \u001b[0mcmap\u001b[0m\u001b[1;33m=\u001b[0m\u001b[1;34m'gray'\u001b[0m\u001b[1;33m,\u001b[0m\u001b[0morigin\u001b[0m\u001b[1;33m=\u001b[0m\u001b[1;34m'lower'\u001b[0m\u001b[1;33m)\u001b[0m\u001b[1;33m\u001b[0m\u001b[0m\n\u001b[0;32m     14\u001b[0m \u001b[1;33m\u001b[0m\u001b[0m\n\u001b[1;32m---> 15\u001b[1;33m \u001b[0mprint_points\u001b[0m\u001b[1;33m(\u001b[0m\u001b[0mpoints\u001b[0m\u001b[1;33m)\u001b[0m\u001b[1;33m\u001b[0m\u001b[0m\n\u001b[0m",
      "\u001b[1;31mNameError\u001b[0m: name 'points' is not defined"
     ]
    }
   ],
   "source": [
    "def print_points(list_points):\n",
    "    img_prev, rect = MEImage.from_file(df.iloc[2].prevImage), df.iloc[2].prevRect\n",
    "    img_prev = img_prev.im[rect[2]:rect[3],rect[0]:rect[1]]\n",
    "    \n",
    "    img_curr, rect = MEImage.from_file(df.iloc[2].prevImage), df.iloc[2].prevRect\n",
    "    img_curr = img_curr.im[rect[2]:rect[3],rect[0]:rect[1]]\n",
    "    \n",
    "    \n",
    "\n",
    "    i = np.copy(img_prev)\n",
    "    i[mask_prev] = 255\n",
    "\n",
    "    imshow(i, cmap='gray',origin='lower')\n",
    "    \n",
    "print_points(points)"
   ]
  },
  {
   "cell_type": "code",
   "execution_count": null,
   "metadata": {},
   "outputs": [],
   "source": []
  },
  {
   "cell_type": "code",
   "execution_count": 8,
   "metadata": {},
   "outputs": [],
   "source": [
    "def match(mask1, mask2):\n",
    "    print(mask1.shape,mask2.shape)\n",
    "    y_n,x_n = (mask2.shape[1] / mask1.shape[1], mask2.shape[0] / mask1.shape[0],)\n",
    "    indexes1, indexes2 = index_by_mask(mask1), index_by_mask(mask2)\n",
    "#     r = np.array([x_n,y_n])\n",
    "#     n_indexes1 = indexes1 * r\n",
    "    result = []\n",
    "    for point1 in indexes1:\n",
    "        for point2 in indexes2:\n",
    "            p = (point1[0] * x_n, point1[1] * y_n)\n",
    "            if abs(p[0] - point2[0]) < 2 and abs(p[1] - point2[1]) < 2:\n",
    "                result.append([(int(point1[0]),int(point1[1])),((point2)[0],(point2)[1])])\n",
    "    return (np.array(result))\n"
   ]
  },
  {
   "cell_type": "code",
   "execution_count": 10,
   "metadata": {},
   "outputs": [],
   "source": [
    "img, rect = df.iloc[2].prevImage, df.iloc[2].prevRect\n",
    "mask_prev = find_corners(img, rect)"
   ]
  },
  {
   "cell_type": "code",
   "execution_count": 11,
   "metadata": {},
   "outputs": [],
   "source": [
    "img, rect = df.iloc[2].currImage, df.iloc[2].currRect\n",
    "mask_curr = find_corners(img, rect)"
   ]
  },
  {
   "cell_type": "code",
   "execution_count": 12,
   "metadata": {},
   "outputs": [
    {
     "name": "stdout",
     "output_type": "stream",
     "text": [
      "[[ 2.61290323  2.6       ]\n",
      " [ 2.61290323 41.6       ]\n",
      " [ 9.58064516  2.6       ]\n",
      " [15.67741935 14.73333333]\n",
      " [16.5483871  31.2       ]\n",
      " [30.48387097 20.8       ]\n",
      " [30.48387097 31.2       ]\n",
      " [35.70967742  2.6       ]\n",
      " [43.5483871   2.6       ]\n",
      " [43.5483871  10.4       ]\n",
      " [43.5483871  41.6       ]]\n"
     ]
    },
    {
     "data": {
      "text/plain": [
       "[(3, 3),\n",
       " (3, 11),\n",
       " (14, 56),\n",
       " (17, 3),\n",
       " (21, 18),\n",
       " (25, 39),\n",
       " (40, 39),\n",
       " (41, 27),\n",
       " (42, 14),\n",
       " (48, 3),\n",
       " (48, 56),\n",
       " (58, 3),\n",
       " (58, 13),\n",
       " (58, 46),\n",
       " (58, 56)]"
      ]
     },
     "execution_count": 12,
     "metadata": {},
     "output_type": "execute_result"
    }
   ],
   "source": [
    "x_n, y_n = (mask_prev.shape[1] / mask_curr.shape[1], mask_prev.shape[0] / mask_curr.shape[0],)\n",
    "r = np.array([y_n,x_n])\n",
    "indexes1 = index_by_mask(mask_prev)\n",
    "indexes1 = indexes1 * r\n",
    "\n",
    "print(indexes1)\n",
    "index_by_mask(mask_curr)"
   ]
  },
  {
   "cell_type": "code",
   "execution_count": 22,
   "metadata": {},
   "outputs": [
    {
     "name": "stdout",
     "output_type": "stream",
     "text": [
      "(54, 52) (62, 60)\n"
     ]
    },
    {
     "data": {
      "text/plain": [
       "array([[[ 3,  3],\n",
       "        [ 3,  3]],\n",
       "\n",
       "       [[18, 17],\n",
       "        [21, 18]],\n",
       "\n",
       "       [[35, 24],\n",
       "        [41, 27]],\n",
       "\n",
       "       [[41,  3],\n",
       "        [48,  3]],\n",
       "\n",
       "       [[50,  3],\n",
       "        [58,  3]],\n",
       "\n",
       "       [[50, 12],\n",
       "        [58, 13]],\n",
       "\n",
       "       [[50, 48],\n",
       "        [58, 56]]], dtype=int64)"
      ]
     },
     "execution_count": 22,
     "metadata": {},
     "output_type": "execute_result"
    }
   ],
   "source": [
    "points = match(mask_prev, mask_curr)\n",
    "points"
   ]
  },
  {
   "cell_type": "code",
   "execution_count": null,
   "metadata": {},
   "outputs": [],
   "source": []
  },
  {
   "cell_type": "code",
   "execution_count": null,
   "metadata": {},
   "outputs": [],
   "source": []
  },
  {
   "cell_type": "code",
   "execution_count": null,
   "metadata": {},
   "outputs": [],
   "source": []
  },
  {
   "cell_type": "code",
   "execution_count": 14,
   "metadata": {},
   "outputs": [
    {
     "data": {
      "text/plain": [
       "<matplotlib.image.AxesImage at 0x1dc86a00278>"
      ]
     },
     "execution_count": 14,
     "metadata": {},
     "output_type": "execute_result"
    },
    {
     "data": {
      "image/png": "[encoded data removed]",
      "text/plain": [
       "<Figure size 432x288 with 1 Axes>"
      ]
     },
     "metadata": {
      "needs_background": "light"
     },
     "output_type": "display_data"
    }
   ],
   "source": [
    "img_prev, rect_prev = MEImage.from_file(df.iloc[2].prevImage), df.iloc[2].prevRect\n",
    "new_image_prev = img_prev.im[rect_prev[2]:rect_prev[3],rect_prev[0]:rect_prev[1]]\n",
    "\n",
    "i = np.copy(new_image_prev)\n",
    "i[mask_prev] = 255\n",
    "\n",
    "imshow(i,cmap='gray',origin='lower')"
   ]
  },
  {
   "cell_type": "code",
   "execution_count": 15,
   "metadata": {},
   "outputs": [
    {
     "data": {
      "text/plain": [
       "<matplotlib.image.AxesImage at 0x1dc86a5fe10>"
      ]
     },
     "execution_count": 15,
     "metadata": {},
     "output_type": "execute_result"
    },
    {
     "data": {
      "image/png": "[encoded data removed]",
      "text/plain": [
       "<Figure size 432x288 with 1 Axes>"
      ]
     },
     "metadata": {
      "needs_background": "light"
     },
     "output_type": "display_data"
    }
   ],
   "source": [
    "img_curr, rect_curr = MEImage.from_file(df.iloc[2].currImage), df.iloc[2].currRect\n",
    "new_image_curr = img_curr.im[rect_curr[2]:rect_curr[3],rect_curr[0]:rect_curr[1]]\n",
    "\n",
    "i = np.copy(new_image_curr)\n",
    "i[mask_curr] = 255\n",
    "\n",
    "imshow(i,cmap='gray',origin='lower')"
   ]
  },
  {
   "cell_type": "code",
   "execution_count": null,
   "metadata": {},
   "outputs": [],
   "source": []
  },
  {
   "cell_type": "code",
   "execution_count": null,
   "metadata": {},
   "outputs": [],
   "source": []
  },
  {
   "cell_type": "code",
   "execution_count": null,
   "metadata": {},
   "outputs": [],
   "source": []
  },
  {
   "cell_type": "code",
   "execution_count": 16,
   "metadata": {},
   "outputs": [],
   "source": [
    "def plot_match(list_points):\n",
    "    \n",
    "    for i in range(3):\n",
    "        \n",
    "        img_prev, rect = MEImage.from_file(df.iloc[i].prevImage), df.iloc[i].prevRect\n",
    "        img_prev = img_prev.im[rect[2]:rect[3],rect[0]:rect[1]]\n",
    "        img_curr, rect = MEImage.from_file(df.iloc[i].currImage), df.iloc[i].currRect\n",
    "        img_curr = img_curr.im[rect[2]:rect[3],rect[0]:rect[1]]\n",
    "        fig1 = plt.figure()\n",
    "        ax1 = fig1.add_subplot(111)\n",
    "        fig2 = plt.figure()\n",
    "        ax2= fig2.add_subplot(111)\n",
    "\n",
    "        for pair in list_points:\n",
    "            ax1.imshow(img_prev, origin=\"lower\")\n",
    "            ax1.scatter(pair[0][0], pair[0][1])\n",
    "\n",
    "            plt.imshow(img_curr, origin=\"lower\")\n",
    "            ax2.scatter(pair[1][0], pair[1][1])"
   ]
  },
  {
   "cell_type": "code",
   "execution_count": 17,
   "metadata": {
    "scrolled": true
   },
   "outputs": [
    {
     "data": {
      "image/png": "[encoded data removed]",
      "text/plain": [
       "<Figure size 432x288 with 1 Axes>"
      ]
     },
     "metadata": {
      "needs_background": "light"
     },
     "output_type": "display_data"
    },
    {
     "data": {
      "image/png": "[encoded data removed]",
      "text/plain": [
       "<Figure size 432x288 with 1 Axes>"
      ]
     },
     "metadata": {
      "needs_background": "light"
     },
     "output_type": "display_data"
    },
    {
     "data": {
      "image/png": "[encoded data removed]",
      "text/plain": [
       "<Figure size 432x288 with 1 Axes>"
      ]
     },
     "metadata": {
      "needs_background": "light"
     },
     "output_type": "display_data"
    },
    {
     "data": {
      "image/png": "[encoded data removed]",
      "text/plain": [
       "<Figure size 432x288 with 1 Axes>"
      ]
     },
     "metadata": {
      "needs_background": "light"
     },
     "output_type": "display_data"
    },
    {
     "data": {
      "image/png": "[encoded data removed]",
      "text/plain": [
       "<Figure size 432x288 with 1 Axes>"
      ]
     },
     "metadata": {
      "needs_background": "light"
     },
     "output_type": "display_data"
    },
    {
     "data": {
      "image/png": "[encoded data removed]",
      "text/plain": [
       "<Figure size 432x288 with 1 Axes>"
      ]
     },
     "metadata": {
      "needs_background": "light"
     },
     "output_type": "display_data"
    }
   ],
   "source": [
    "plot_match(points)"
   ]
  },
  {
   "cell_type": "code",
   "execution_count": null,
   "metadata": {},
   "outputs": [],
   "source": []
  },
  {
   "cell_type": "code",
   "execution_count": null,
   "metadata": {},
   "outputs": [],
   "source": []
  },
  {
   "cell_type": "code",
   "execution_count": 18,
   "metadata": {},
   "outputs": [
    {
     "name": "stdout",
     "output_type": "stream",
     "text": [
      "[[[302 608]\n",
      "  [260 618]]\n",
      "\n",
      " [[317 622]\n",
      "  [278 633]]\n",
      "\n",
      " [[334 629]\n",
      "  [298 642]]\n",
      "\n",
      " [[340 608]\n",
      "  [305 618]]\n",
      "\n",
      " [[349 608]\n",
      "  [315 618]]\n",
      "\n",
      " [[349 617]\n",
      "  [315 628]]\n",
      "\n",
      " [[349 653]\n",
      "  [315 671]]]\n"
     ]
    }
   ],
   "source": [
    "points[:,0][:,0]+=rect_prev[0]\n",
    "points[:,0][:,1]+=rect_prev[2]\n",
    "points[:,1][:,0]+=rect_curr[0]\n",
    "points[:,1][:,1]+=rect_curr[2]\n",
    "print(points)"
   ]
  },
  {
   "cell_type": "code",
   "execution_count": 21,
   "metadata": {},
   "outputs": [
    {
     "name": "stdout",
     "output_type": "stream",
     "text": [
      "1612\n",
      "[[ 9.99999887e-01  4.69688477e-04  7.42729400e-05]\n",
      " [-4.69526179e-04  9.99997535e-01 -2.17027886e-03]\n",
      " [-7.52921118e-05  2.17024375e-03  9.99997642e-01]]\n",
      "[ 0.0569972  -0.04871089 -2.88552559]\n",
      "-31.841505974636792\n"
     ]
    },
    {
     "data": {
      "text/plain": [
       "19.023346346254925"
      ]
     },
     "execution_count": 21,
     "metadata": {},
     "output_type": "execute_result"
    }
   ],
   "source": [
    "egomotion = df.iloc[2].egoMotion\n",
    "\n",
    "focal = df.iloc[2].focal\n",
    "print(focal)\n",
    "R = egomotion[:3,:3]\n",
    "print(R)\n",
    "T = egomotion[:-1,-1]\n",
    "print(T)\n",
    "\n",
    "x_prev, y_prev = points[0][0]\n",
    "x_curr, y_curr = points[0][1]\n",
    "\n",
    "# x1,y1,x2,y2 =df.iloc[0].currRect\n",
    "# print(x1,y1,x2,y2)\n",
    "# x_curr = abs(x2-x1)\n",
    "# y_curr = abs(y2 - y1)\n",
    "# print(x_curr,y_curr)\n",
    "# x1,y1,x2,y2 =df.iloc[0].prevRect\n",
    "# print(x1,y1,x2,y2)\n",
    "# x_prev = abs(x2 - x1)\n",
    "# y_prev = abs(y2 - y1)\n",
    "# print(x_prev,y_prev)\n",
    "\n",
    "\n",
    "ex = focal*(T[0]/T[2])\n",
    "print(ex)\n",
    "\n",
    "origin_curr = img_curr.origin\n",
    "x_curr -= origin_curr[0]\n",
    "y_curr -= origin_curr[1]\n",
    "origin_prev = img_prev.origin\n",
    "x_prev -= origin_prev[0]\n",
    "y_prev -= origin_prev[1]\n",
    "\n",
    "prev = [x_prev, y_prev, focal]\n",
    "xrot, yrot, frot = np.matmul(R, prev)\n",
    "# print(T[2])\n",
    "# print(xrot)\n",
    "# print(xc)\n",
    "Z = T[2]*((xrot-ex)/(xrot-x_curr))\n",
    "Z"
   ]
  },
  {
   "cell_type": "code",
   "execution_count": null,
   "metadata": {},
   "outputs": [],
   "source": []
  }
 ],
 "metadata": {
  "kernelspec": {
   "display_name": "Python 3",
   "language": "python",
   "name": "python3"
  },
  "language_info": {
   "codemirror_mode": {
    "name": "ipython",
    "version": 3
   },
   "file_extension": ".py",
   "mimetype": "text/x-python",
   "name": "python",
   "nbconvert_exporter": "python",
   "pygments_lexer": "ipython3",
   "version": "3.7.0"
  }
 },
 "nbformat": 4,
 "nbformat_minor": 2
}
